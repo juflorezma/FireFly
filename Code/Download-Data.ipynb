{
  "nbformat": 4,
  "nbformat_minor": 0,
  "metadata": {
    "kernelspec": {
      "display_name": "Python 3",
      "language": "python",
      "name": "python3"
    },
    "language_info": {
      "codemirror_mode": {
        "name": "ipython",
        "version": 3
      },
      "file_extension": ".py",
      "mimetype": "text/x-python",
      "name": "python",
      "nbconvert_exporter": "python",
      "pygments_lexer": "ipython3",
      "version": "3.7.4"
    },
    "colab": {
      "name": "Copia de Untitled.ipynb",
      "provenance": []
    }
  },
  "cells": [
    {
      "cell_type": "code",
      "metadata": {
        "id": "8w1xRO91WtHp"
      },
      "source": [
        "import numpy as np\n",
        "import requests\n",
        "import pandas as pd\n",
        "from io import BytesIO\n",
        "from matplotlib.pyplot import imshow\n",
        "from PIL import Image\n"
      ],
      "execution_count": 1,
      "outputs": []
    },
    {
      "cell_type": "code",
      "metadata": {
        "id": "UNO0XbWTWtH6"
      },
      "source": [
        "URL = \"https://wvs.earthdata.nasa.gov/api/v1/snapshot?REQUEST=GetSnapshot&LAYERS=MODIS_Terra_CorrectedReflectance_TrueColor&version=1.3.0&crs=EPSG:4326&transparent=false&WIDTH={}&HEIGHT={}&BBOX={}&FORMAT=image/tiff&TIME={}\"\n",
        "KM_PER_DEG_AT_EQ = 111.\n",
        "df = \"fire_archive_M6_96619.cvs\""
      ],
      "execution_count": 2,
      "outputs": []
    },
    {
      "cell_type": "code",
      "metadata": {
        "id": "5rJw0g-wWtIJ"
      },
      "source": [
        "def calculate_width_height(extent, resolution):\n",
        "    \"\"\"\n",
        "    extent: [lower_latitude, left_longitude, higher_latitude, right_longitude], EG: [51.46162974683544,-22.94768591772153,53.03698575949367,-20.952234968354432]\n",
        "    resolution: represents the pixel resolution, i.e. km/pixel. Should be a value from this list: [0.03, 0.06, 0.125, 0.25, 0.5, 1, 5, 10]\n",
        "    \"\"\"\n",
        "    lats = extent[::2]\n",
        "    lons = extent[1::2]\n",
        "    km_per_deg_at_lat = KM_PER_DEG_AT_EQ * np.cos(np.pi * np.mean(lats) / 180.)\n",
        "    width = int((lons[1] - lons[0]) * km_per_deg_at_lat / resolution)\n",
        "    height = int((lats[1] - lats[0]) * KM_PER_DEG_AT_EQ / resolution)\n",
        "    #print(width, height)\n",
        "    return (width, height)\n"
      ],
      "execution_count": 3,
      "outputs": []
    },
    {
      "cell_type": "code",
      "metadata": {
        "id": "PV37xGwaWtIQ"
      },
      "source": [
        "def modis_url(time, extent, resolution):\n",
        "    \"\"\"\n",
        "    time: utc time in iso format EG: 2020-02-19T00:00:00Z\n",
        "    extent: [lower_latitude, left_longitude, higher_latitude, right_longitude], EG: [51.46162974683544,-22.94768591772153,53.03698575949367,-20.952234968354432]\n",
        "    resolution: represents the pixel resolution, i.e. km/pixel. Should be a value from this list: [0.03, 0.06, 0.125, 0.25, 0.5, 1, 5, 10]\n",
        "    \"\"\"\n",
        "    width, height = calculate_width_height(extent, resolution)\n",
        "    extent = ','.join(map(lambda x: str(x), extent))\n",
        "    return (width, height, URL.format(width, height, extent, time))"
      ],
      "execution_count": 4,
      "outputs": []
    },
    {
      "cell_type": "code",
      "metadata": {
        "id": "x0w1JJ1oWtIX"
      },
      "source": [
        "width, height, url = modis_url('2019-03-01T00:25:00Z', [-14.50162974683544, 142.71768591772153, -13.50698575949367,144.02234968354432], 0.25)"
      ],
      "execution_count": 5,
      "outputs": []
    },
    {
      "cell_type": "code",
      "metadata": {
        "id": "R2ih_mz1WtIf"
      },
      "source": [
        "for i in range(0,2000):\n",
        "    print(df.loc[i,'latitude'],df.loc[i,'longitude'],df.loc[i,'acq_date'],df.loc[i,'acq_time'])\n",
        "    if len(str(df.loc[i,'acq_time'].item()))%2 == 0:\n",
        "        line = str(df.loc[i,'acq_time'])\n",
        "    else:\n",
        "        line='0'+str(df.loc[i,'acq_time'])\n",
        "        \n",
        "    if len(line) == 2:\n",
        "        line='00'+line\n",
        "    \n",
        "    a=[line[i:i+2] for i in range(0, len(line), 2)]\n",
        "    Lyt = df.loc[i,'acq_date']+'T'+a[0]+':'+a[1]+':00Z'\n",
        "    width, height, url = modis_url(Lyt, [df.loc[i,'latitude']-0.25, df.loc[i,'longitude']-0.25, df.loc[i,'latitude']+0.25, df.loc[i,'longitude']+0.25], 0.25)\n",
        "    response = requests.get(url)\n",
        "    img = BytesIO(response.content)\n",
        "    pil_img = Image.open(img)\n",
        "    #display(pil_img)\n",
        "    pil_img=pil_img.save('fire'+str(i)+'.jpg')"
      ],
      "execution_count": null,
      "outputs": []
    },
    {
      "cell_type": "code",
      "metadata": {
        "id": "zuz6VMt0WtIv"
      },
      "source": [
        "print(url)\n",
        "response = requests.get(url)\n",
        "img = BytesIO(response.content)\n",
        "Image.open(img)"
      ],
      "execution_count": null,
      "outputs": []
    },
    {
      "cell_type": "code",
      "metadata": {
        "id": "cQozQg5IWtI2",
        "outputId": "d0a758ea-ccdc-4311-c283-933710f068a2"
      },
      "source": [
        "print(df.shape[0])"
      ],
      "execution_count": null,
      "outputs": [
        {
          "output_type": "stream",
          "text": [
            "183593\n"
          ],
          "name": "stdout"
        }
      ]
    },
    {
      "cell_type": "code",
      "metadata": {
        "id": "tdm_Fp8CWtI8"
      },
      "source": [
        ""
      ],
      "execution_count": null,
      "outputs": []
    }
  ]
}